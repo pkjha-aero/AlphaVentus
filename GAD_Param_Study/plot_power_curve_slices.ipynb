{
 "cells": [
  {
   "cell_type": "markdown",
   "id": "be32f8cd",
   "metadata": {},
   "source": [
    "# Import Modules"
   ]
  },
  {
   "cell_type": "markdown",
   "id": "1f7d09d4",
   "metadata": {},
   "source": [
    "## Standard"
   ]
  },
  {
   "cell_type": "code",
   "execution_count": 1,
   "id": "0006519d",
   "metadata": {},
   "outputs": [
    {
     "name": "stderr",
     "output_type": "stream",
     "text": [
      "/g/g92/jha3/VirtualEnv/py3_ml_wind/lib/python3.7/site-packages/pandas/compat/_optional.py:138: UserWarning: Pandas requires version '2.7.0' or newer of 'numexpr' (version '2.6.9' currently installed).\n",
      "  warnings.warn(msg, UserWarning)\n"
     ]
    }
   ],
   "source": [
    "import sys\n",
    "import os\n",
    "import os.path as path\n",
    "import xarray as xr\n",
    "from netCDF4 import Dataset\n",
    "import numpy as np\n",
    "import pandas as pd\n",
    "from scipy import interpolate\n",
    "import matplotlib.pyplot as plt\n",
    "import matplotlib.dates as mdates"
   ]
  },
  {
   "cell_type": "markdown",
   "id": "ea44cd60",
   "metadata": {},
   "source": [
    "## User Defined"
   ]
  },
  {
   "cell_type": "code",
   "execution_count": 2,
   "id": "dfc2388c",
   "metadata": {},
   "outputs": [],
   "source": [
    "sys.path.insert(0, os.path.dirname(os.getcwd()))\n",
    "from data_processing_slice import *\n",
    "from helper_GAD import *"
   ]
  },
  {
   "cell_type": "markdown",
   "id": "cdcfe339",
   "metadata": {},
   "source": [
    "# Paths"
   ]
  },
  {
   "cell_type": "code",
   "execution_count": 3,
   "id": "e6a75f0c",
   "metadata": {},
   "outputs": [
    {
     "data": {
      "text/plain": [
       "0"
      ]
     },
     "execution_count": 3,
     "metadata": {},
     "output_type": "execute_result"
    }
   ],
   "source": [
    "WRF_result_base_loc ='/p/lustre2/jha3/fromWill/TurbTest/NREL_5MW'\n",
    "GAD_param_output_loc = os.path.join(WRF_result_base_loc, 'GAD_Param_Study_Output')\n",
    "GAD_param_power_curve_loc = os.path.join(GAD_param_output_loc, 'PowerCurve')\n",
    "GAD_param_slice_loc = os.path.join(GAD_param_output_loc, 'Slice')\n",
    "os.system('mkdir -p %s'%GAD_param_power_curve_loc)\n",
    "os.system('mkdir -p %s'%GAD_param_slice_loc)"
   ]
  },
  {
   "cell_type": "markdown",
   "id": "fe79dd28",
   "metadata": {},
   "source": [
    "# Flags"
   ]
  },
  {
   "cell_type": "code",
   "execution_count": 4,
   "id": "79e97ab1",
   "metadata": {},
   "outputs": [],
   "source": [
    "savefig = True\n",
    "induction_effect = False\n",
    "grid_effect = True\n",
    "epsilon_effect = False"
   ]
  },
  {
   "cell_type": "markdown",
   "id": "e6bc910f",
   "metadata": {},
   "source": [
    "# Common Stuff"
   ]
  },
  {
   "cell_type": "code",
   "execution_count": 5,
   "id": "c94eb970",
   "metadata": {},
   "outputs": [],
   "source": [
    "vhub = [3, 4.5, 6, 7.5, 9, 10.5, 12, 13.5, 15]\n",
    "#vhub = [3, 4.5, 6, 7.5, 9, 10.5, 13.5, 15, 18]\n",
    "ind1_for_tab = 3 # To be used in the paper\n",
    "ind2_for_tab = 4 # To be used in the paper\n",
    "ind3_for_tab = 5 # To be used in the paper\n",
    "outfile = 'wrfout_d01_0001-01-01_00:00:00'\n",
    "tsoutfile = 'tsout_d01_0001-01-01_00:00:00'"
   ]
  },
  {
   "cell_type": "markdown",
   "id": "ae781a6c",
   "metadata": {},
   "source": [
    "# Effect of Induction Type"
   ]
  },
  {
   "cell_type": "code",
   "execution_count": 6,
   "id": "439fb84c",
   "metadata": {},
   "outputs": [],
   "source": [
    "if induction_effect:\n",
    "\tfigFileName = os.path.join(GAD_param_power_curve_loc, 'power_induction.png')\n",
    "\ttab_data_file = os.path.join(GAD_param_power_curve_loc, 'power_induction.csv')\n",
    "\tplt_title   = '$Grid: \\Delta x = \\Delta y = 4 m, \\Delta z = 4 m; Gaussian: \\epsilon/\\Delta_{grid} = 1.00 $'\n",
    "\tcase_dir_map = {'Glauert_Tip_dx_04_dz_04_an_fixed_at_iter_eps_1.00': {'legend':'Glauert, a$_{n}$ = 0.07, a$_{t}$ = iterated', 'line_style': 'b'},\n",
    "\t\t        'Glauert_Tip_dx_04_dz_04_an_iter_at_iter_eps_1.00': {'legend':'Glauert, a$_{n}$ = iterated, a$_{t}$ = iterated', 'line_style': 'g'},\n",
    "\t\t\t'Shen_Tip_dx_04_dz_04_an_fixed_at_iter_eps_1.00': {'legend':'Shen, a$_{n}$ = 0.07, a$_{t}$ = iterated', 'line_style': 'r--'},\n",
    "\t\t\t'Shen_Tip_dx_04_dz_04_an_iter_at_iter_eps_1.00': {'legend':'Shen, a$_{n}$ = iterated, a$_{t}$ = iterated', 'line_style': 'm--'},\n",
    "\t\t\t'Tip_dx_04_dz_04_an_0.0_at_0.0_eps_1.00': {'legend':'a$_{n}$ = 0.0, a$_{t}$ = 0.0', 'line_style': 'c'}}"
   ]
  },
  {
   "cell_type": "markdown",
   "id": "bc13f445",
   "metadata": {},
   "source": [
    "# Effect of Grid Resolution"
   ]
  },
  {
   "cell_type": "code",
   "execution_count": 7,
   "id": "e98aef3a",
   "metadata": {},
   "outputs": [],
   "source": [
    "if grid_effect:\n",
    "\tfigFileName = os.path.join(GAD_param_power_curve_loc, 'power_grid_effect.png')\n",
    "\ttab_data_file = os.path.join(GAD_param_power_curve_loc, 'power_grid_effect.csv')\n",
    "\tplt_title   = '$ Induction: Glauert, a_{n} = 0.07, a_{t} = iterated; Gaussian: \\epsilon/\\Delta_{grid} = 1.00 $'\n",
    "\tcase_dir_map = {'Glauert_Tip_dx_04_dz_04_an_fixed_at_iter_eps_1.00': {'legend':'$\\Delta x = \\Delta y = 4 m, \\Delta z = 4 m $', 'line_style': 'b'},\n",
    "\t\t\t'Glauert_Tip_dx_08_dz_08_an_fixed_at_iter_eps_1.00': {'legend':'$\\Delta x = \\Delta y = 8 m, \\Delta z = 8 m $', 'line_style': 'g'},\n",
    "\t\t\t'Glauert_Tip_dx_16_dz_04_an_fixed_at_iter_eps_1.00': {'legend':'$\\Delta x = \\Delta y = 16 m, \\Delta z = 4 m $', 'line_style': 'r--'},\n",
    "\t\t\t'Glauert_Tip_dx_16_dz_16_an_fixed_at_iter_eps_1.00': {'legend':'$\\Delta x = \\Delta y = 16 m, \\Delta z = 16 m $', 'line_style': 'm--'}}"
   ]
  },
  {
   "cell_type": "markdown",
   "id": "b78cbeaf",
   "metadata": {},
   "source": [
    "# Effect of Gaussian Spreading"
   ]
  },
  {
   "cell_type": "code",
   "execution_count": 8,
   "id": "4d160d09",
   "metadata": {},
   "outputs": [],
   "source": [
    "if epsilon_effect:\n",
    "\tfigFileName = os.path.join(GAD_param_power_curve_loc, 'power_gaussian_effect.png')\n",
    "\ttab_data_file = os.path.join(GAD_param_power_curve_loc, 'power_gaussian_effect.csv')\n",
    "\tplt_title   = '$Grid: \\Delta x = \\Delta y = 4 m, \\Delta z = 4 ; Induction: Glauert, a_{n} = 0.07, a_{t} = iterated $'\n",
    "\tcase_dir_map = {'Glauert_Tip_dx_04_dz_04_an_fixed_at_iter_eps_0.707': {'legend':'$ \\epsilon/\\Delta_{grid} = 1/\\sqrt{2} $', 'line_style': 'b'},\n",
    "\t\t\t'Glauert_Tip_dx_04_dz_04_an_fixed_at_iter_eps_1.00': {'legend':'$ \\epsilon/\\Delta_{grid} = 1.00$', 'line_style': 'g'},\n",
    "\t\t\t'Glauert_Tip_dx_04_dz_04_an_fixed_at_iter_eps_1.4142': {'legend':'$ \\epsilon/\\Delta_{grid} = \\sqrt{2} $', 'line_style': 'r--'},\n",
    "\t\t\t'Glauert_Tip_dx_04_dz_04_an_fixed_at_iter_eps_2.00': {'legend':'$ \\epsilon/\\Delta_{grid} = 2.00 $', 'line_style': 'm--'}}"
   ]
  },
  {
   "cell_type": "markdown",
   "id": "8f192f42",
   "metadata": {},
   "source": [
    "# Cases of Interest"
   ]
  },
  {
   "cell_type": "code",
   "execution_count": 9,
   "id": "a1cdc1b4",
   "metadata": {},
   "outputs": [
    {
     "name": "stdout",
     "output_type": "stream",
     "text": [
      "Cases: \n",
      " ['Glauert_Tip_dx_04_dz_04_an_fixed_at_iter_eps_1.00', 'Glauert_Tip_dx_08_dz_08_an_fixed_at_iter_eps_1.00', 'Glauert_Tip_dx_16_dz_04_an_fixed_at_iter_eps_1.00', 'Glauert_Tip_dx_16_dz_16_an_fixed_at_iter_eps_1.00']\n"
     ]
    }
   ],
   "source": [
    "case_keys = list(case_dir_map.keys())\n",
    "case_keys.sort()\n",
    "print ('Cases: \\n {}'.format(case_keys))\n",
    "#case_keys"
   ]
  },
  {
   "cell_type": "markdown",
   "id": "a6eb97c3",
   "metadata": {},
   "source": [
    "# NREL Data"
   ]
  },
  {
   "cell_type": "code",
   "execution_count": null,
   "id": "c33f50c5",
   "metadata": {},
   "outputs": [],
   "source": [
    "NREL_Data, ws_NREL, power_NREL, power_interp = prepare_NREL_data (WRF_result_base_loc, vhub)"
   ]
  },
  {
   "cell_type": "markdown",
   "id": "c6443455",
   "metadata": {},
   "source": [
    "# Initialize Tabulated Data"
   ]
  },
  {
   "cell_type": "code",
   "execution_count": null,
   "id": "75f284b1",
   "metadata": {},
   "outputs": [],
   "source": [
    "case_tab, power1_tab, power2_tab, power3_tab, \\\n",
    "error1_tab, error2_tab, error3_tab = \\\n",
    "                initialize_tabulated_data (power_interp, \\\n",
    "                                           ind1_for_tab, ind2_for_tab, ind3_for_tab)"
   ]
  },
  {
   "cell_type": "markdown",
   "id": "12913381",
   "metadata": {},
   "source": [
    "# Read the Power Data for Cases of Interest"
   ]
  },
  {
   "cell_type": "code",
   "execution_count": null,
   "id": "6f1bfb61",
   "metadata": {},
   "outputs": [],
   "source": [
    "print ('Cases under consideration : \\n')\n",
    "for case in case_keys:\n",
    "    case_dir_map, case_tab, \\\n",
    "    power1_tab, power2_tab, power3_tab, \\\n",
    "    error1_tab, error2_tab, error3_tab = \\\n",
    "    read_power_for_a_case (WRF_result_base_loc, case, vhub, power_interp, outfile, \\\n",
    "                           case_dir_map, case_tab, \\\n",
    "                           power1_tab, power2_tab, power3_tab, \\\n",
    "                           error1_tab, error2_tab, error3_tab, \\\n",
    "                           ind1_for_tab, ind2_for_tab, ind3_for_tab)"
   ]
  },
  {
   "cell_type": "markdown",
   "id": "6f991614",
   "metadata": {},
   "source": [
    "# Prepare Tabulated Data for a Few Wind Speeds"
   ]
  },
  {
   "cell_type": "code",
   "execution_count": null,
   "id": "dbc4c9af",
   "metadata": {},
   "outputs": [],
   "source": [
    "tabulate_data_for_cases (tab_data_file, vhub, case_tab, \\\n",
    "                         power1_tab, power2_tab, power3_tab, \\\n",
    "                         error1_tab, error2_tab, error3_tab, \\\n",
    "                         ind1_for_tab, ind2_for_tab, ind3_for_tab)"
   ]
  },
  {
   "cell_type": "markdown",
   "id": "b99f8267",
   "metadata": {},
   "source": [
    "# Create Power Curve Plots"
   ]
  },
  {
   "cell_type": "markdown",
   "id": "45de190c",
   "metadata": {},
   "source": [
    "## Power Curve"
   ]
  },
  {
   "cell_type": "code",
   "execution_count": null,
   "id": "f5d660a7",
   "metadata": {},
   "outputs": [],
   "source": [
    "plot_power_curve_for_cases (NREL_Data, vhub, case_keys, case_dir_map, plt_title, \\\n",
    "                            figFileName, savefig)"
   ]
  },
  {
   "cell_type": "markdown",
   "id": "0f42f912",
   "metadata": {},
   "source": [
    "## Error in Power Curve"
   ]
  },
  {
   "cell_type": "code",
   "execution_count": null,
   "id": "1b5103db",
   "metadata": {},
   "outputs": [],
   "source": [
    "plot_power_curve_error_for_cases (vhub, case_keys, case_dir_map, plt_title)"
   ]
  },
  {
   "cell_type": "markdown",
   "id": "7f1bebba",
   "metadata": {},
   "source": [
    "# Read Slice Data"
   ]
  },
  {
   "cell_type": "code",
   "execution_count": 10,
   "id": "d9f8de88",
   "metadata": {},
   "outputs": [],
   "source": [
    "case = case_keys[0]\n",
    "ws = 9\n",
    "z_ind = 22\n",
    "time_ind = 30"
   ]
  },
  {
   "cell_type": "code",
   "execution_count": 11,
   "id": "172f0ad9",
   "metadata": {},
   "outputs": [
    {
     "name": "stderr",
     "output_type": "stream",
     "text": [
      "/g/g92/jha3/VirtualEnv/py3_ml_wind/lib/python3.7/site-packages/xarray/coding/times.py:526: SerializationWarning: Unable to decode time axis into full numpy.datetime64 objects, continuing using cftime.datetime objects instead, reason: dates out of range\n",
      "  dtype = _decode_cf_datetime_dtype(data, units, calendar, self.use_cftime)\n"
     ]
    }
   ],
   "source": [
    "case_ws_wrf_data = read_wrfout_data_for_case_ws (WRF_result_base_loc, case, ws, outfile)\n",
    "case_ws_ts_data = read_tsout_data_for_case_ws (WRF_result_base_loc, case, ws, tsoutfile)"
   ]
  },
  {
   "cell_type": "code",
   "execution_count": 18,
   "id": "40fc707b",
   "metadata": {},
   "outputs": [],
   "source": [
    "slice_data_UTS = extract_slices_from_tsout_file (case_ws_ts_data, 'UTS', z_ind)\n",
    "slice_data_UTS = extract_slices_from_tsout_file (case_ws_ts_data, 'UTS', z_ind, time_ind)"
   ]
  },
  {
   "cell_type": "code",
   "execution_count": 19,
   "id": "3a3d9127",
   "metadata": {},
   "outputs": [
    {
     "data": {
      "text/plain": [
       "array([[8.420158 , 8.420105 , 8.420065 , ..., 8.408976 , 8.409105 ,\n",
       "        8.409239 ],\n",
       "       [8.413488 , 8.413443 , 8.413387 , ..., 8.4105425, 8.410704 ,\n",
       "        8.410849 ],\n",
       "       [8.40689  , 8.406841 , 8.406792 , ..., 8.412224 , 8.412405 ,\n",
       "        8.412569 ],\n",
       "       ...,\n",
       "       [8.481346 , 8.481367 , 8.481394 , ..., 8.483938 , 8.4839   ,\n",
       "        8.483847 ],\n",
       "       [8.481432 , 8.481453 , 8.481476 , ..., 8.483894 , 8.483852 ,\n",
       "        8.483801 ],\n",
       "       [8.48147  , 8.481493 , 8.481515 , ..., 8.483878 , 8.483835 ,\n",
       "        8.48378  ]], dtype=float32)"
      ]
     },
     "execution_count": 19,
     "metadata": {},
     "output_type": "execute_result"
    }
   ],
   "source": [
    "slice_data_UTS"
   ]
  },
  {
   "cell_type": "markdown",
   "id": "9b4b3746",
   "metadata": {},
   "source": [
    "# Slice Plots"
   ]
  },
  {
   "cell_type": "code",
   "execution_count": null,
   "id": "229f993f",
   "metadata": {},
   "outputs": [],
   "source": [
    "case_ws_wrf_data.dims"
   ]
  },
  {
   "cell_type": "code",
   "execution_count": null,
   "id": "dbc8f36d",
   "metadata": {},
   "outputs": [],
   "source": [
    "np.array(case_ws_wrf_data['PHB'].isel(south_north = 128).isel(west_east = 128).isel(Time=1))[23]/9.81"
   ]
  },
  {
   "cell_type": "code",
   "execution_count": null,
   "id": "77bd179c",
   "metadata": {},
   "outputs": [],
   "source": [
    "case_ws_ts_data.dims"
   ]
  },
  {
   "cell_type": "code",
   "execution_count": 20,
   "id": "b2a5285a",
   "metadata": {},
   "outputs": [
    {
     "data": {
      "text/plain": [
       "(256, 256)"
      ]
     },
     "execution_count": 20,
     "metadata": {},
     "output_type": "execute_result"
    }
   ],
   "source": [
    "np.array(case_ws_ts_data['VTS'].isel(Time=30).isel(bottom_top = 22)).shape"
   ]
  },
  {
   "cell_type": "code",
   "execution_count": 22,
   "id": "968b3cb4",
   "metadata": {},
   "outputs": [],
   "source": [
    "#case_ws_ts_data"
   ]
  },
  {
   "cell_type": "code",
   "execution_count": null,
   "id": "9c335122",
   "metadata": {},
   "outputs": [],
   "source": []
  }
 ],
 "metadata": {
  "kernelspec": {
   "display_name": "ML_Wind",
   "language": "python",
   "name": "py3_ml_wind"
  },
  "language_info": {
   "codemirror_mode": {
    "name": "ipython",
    "version": 3
   },
   "file_extension": ".py",
   "mimetype": "text/x-python",
   "name": "python",
   "nbconvert_exporter": "python",
   "pygments_lexer": "ipython3",
   "version": "3.7.2"
  }
 },
 "nbformat": 4,
 "nbformat_minor": 5
}
