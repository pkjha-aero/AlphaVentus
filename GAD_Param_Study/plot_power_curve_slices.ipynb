{
 "cells": [
  {
   "cell_type": "markdown",
   "id": "1bb93cc5",
   "metadata": {},
   "source": [
    "# Import Modules"
   ]
  },
  {
   "cell_type": "code",
   "execution_count": 1,
   "id": "6889fb98",
   "metadata": {},
   "outputs": [
    {
     "name": "stderr",
     "output_type": "stream",
     "text": [
      "/g/g92/jha3/VirtualEnv/py3_ml_wind/lib/python3.7/site-packages/pandas/compat/_optional.py:138: UserWarning: Pandas requires version '2.7.0' or newer of 'numexpr' (version '2.6.9' currently installed).\n",
      "  warnings.warn(msg, UserWarning)\n"
     ]
    }
   ],
   "source": [
    "import sys\n",
    "import os\n",
    "import os.path as path\n",
    "\n",
    "from netCDF4 import Dataset\n",
    "import numpy as np\n",
    "import pandas as pd\n",
    "from scipy import interpolate\n",
    "import matplotlib.pyplot as plt\n",
    "import matplotlib.dates as mdates"
   ]
  },
  {
   "cell_type": "markdown",
   "id": "cb8b957a",
   "metadata": {},
   "source": [
    "# Paths"
   ]
  },
  {
   "cell_type": "code",
   "execution_count": 2,
   "id": "c988afe2",
   "metadata": {},
   "outputs": [],
   "source": [
    "WRF_result_base_loc ='/p/lustre2/jha3/fromWill/TurbTest/NREL_5MW'\n",
    "GAD_param_output_loc = os.path.join(WRF_result_base_loc, 'GAD_Param_Study_Output')\n",
    "GAD_param_power_curve_loc = os.path.join(GAD_param_output_loc, 'PowerCurve')\n",
    "os.system('mkdir -p %s'%GAD_param_power_curve_loc)\n",
    "#inputs\n",
    "savefig = True"
   ]
  },
  {
   "cell_type": "markdown",
   "id": "d5d04a3f",
   "metadata": {},
   "source": [
    "# Flags"
   ]
  },
  {
   "cell_type": "code",
   "execution_count": 3,
   "id": "f170e91d",
   "metadata": {},
   "outputs": [],
   "source": [
    "induction_effect = True\n",
    "grid_effect = False\n",
    "epsilon_effect = False"
   ]
  },
  {
   "cell_type": "markdown",
   "id": "6c8a6e08",
   "metadata": {},
   "source": [
    "# Effect of Induction Type"
   ]
  },
  {
   "cell_type": "code",
   "execution_count": 4,
   "id": "c806d292",
   "metadata": {},
   "outputs": [],
   "source": [
    "if induction_effect:\n",
    "\tfigFileName = os.path.join(GAD_param_power_curve_loc, 'power_induction.png')\n",
    "\ttab_data_file = os.path.join(GAD_param_power_curve_loc, 'power_induction.csv')\n",
    "\tplt_title   = '$Grid: \\Delta x = \\Delta y = 4 m, \\Delta z = 4 m; Gaussian: \\epsilon/\\Delta_{grid} = 1.00 $'\n",
    "\tcase_dir_map = {'Glauert_Tip_dx_04_dz_04_an_fixed_at_iter_eps_1.00': {'legend':'Glauert, a$_{n}$ = 0.07, a$_{t}$ = iterated', 'line_style': 'b'},\n",
    "\t\t        'Glauert_Tip_dx_04_dz_04_an_iter_at_iter_eps_1.00': {'legend':'Glauert, a$_{n}$ = iterated, a$_{t}$ = iterated', 'line_style': 'g'},\n",
    "\t\t\t'Shen_Tip_dx_04_dz_04_an_fixed_at_iter_eps_1.00': {'legend':'Shen, a$_{n}$ = 0.07, a$_{t}$ = iterated', 'line_style': 'r--'},\n",
    "\t\t\t'Shen_Tip_dx_04_dz_04_an_iter_at_iter_eps_1.00': {'legend':'Shen, a$_{n}$ = iterated, a$_{t}$ = iterated', 'line_style': 'm--'},\n",
    "\t\t\t'Tip_dx_04_dz_04_an_0.0_at_0.0_eps_1.00': {'legend':'a$_{n}$ = 0.0, a$_{t}$ = 0.0', 'line_style': 'c'}}"
   ]
  },
  {
   "cell_type": "markdown",
   "id": "85d4208d",
   "metadata": {},
   "source": [
    "# Effect of Grid Resolution"
   ]
  },
  {
   "cell_type": "code",
   "execution_count": 5,
   "id": "e1324b44",
   "metadata": {},
   "outputs": [],
   "source": [
    "if grid_effect:\n",
    "\tfigFileName = os.path.join(GAD_param_power_curve_loc, 'power_grid_effect.png')\n",
    "\ttab_data_file = os.path.join(GAD_param_power_curve_loc, 'power_grid_effect.csv')\n",
    "\tplt_title   = '$ Induction: Glauert, a_{n} = 0.07, a_{t} = iterated; Gaussian: \\epsilon/\\Delta_{grid} = 1.00 $'\n",
    "\tcase_dir_map = {'Glauert_Tip_dx_04_dz_04_an_fixed_at_iter_eps_1.00': {'legend':'$\\Delta x = \\Delta y = 4 m, \\Delta z = 4 m $', 'line_style': 'b'},\n",
    "\t\t\t'Glauert_Tip_dx_08_dz_08_an_fixed_at_iter_eps_1.00': {'legend':'$\\Delta x = \\Delta y = 8 m, \\Delta z = 8 m $', 'line_style': 'g'},\n",
    "\t\t\t'Glauert_Tip_dx_16_dz_04_an_fixed_at_iter_eps_1.00': {'legend':'$\\Delta x = \\Delta y = 16 m, \\Delta z = 4 m $', 'line_style': 'r--'},\n",
    "\t\t\t'Glauert_Tip_dx_16_dz_16_an_fixed_at_iter_eps_1.00': {'legend':'$\\Delta x = \\Delta y = 16 m, \\Delta z = 16 m $', 'line_style': 'm--'}}"
   ]
  },
  {
   "cell_type": "markdown",
   "id": "410ab7dd",
   "metadata": {},
   "source": [
    "# Effect of Gaussian Spreading"
   ]
  },
  {
   "cell_type": "code",
   "execution_count": 6,
   "id": "4ee9fd0b",
   "metadata": {},
   "outputs": [],
   "source": [
    "if epsilon_effect:\n",
    "\tfigFileName = os.path.join(GAD_param_power_curve_loc, 'power_gaussian_effect.png')\n",
    "\ttab_data_file = os.path.join(GAD_param_power_curve_loc, 'power_gaussian_effect.csv')\n",
    "\tplt_title   = '$Grid: \\Delta x = \\Delta y = 4 m, \\Delta z = 4 ; Induction: Glauert, a_{n} = 0.07, a_{t} = iterated $'\n",
    "\tcase_dir_map = {'Glauert_Tip_dx_04_dz_04_an_fixed_at_iter_eps_0.707': {'legend':'$ \\epsilon/\\Delta_{grid} = 1/\\sqrt{2} $', 'line_style': 'b'},\n",
    "\t\t\t'Glauert_Tip_dx_04_dz_04_an_fixed_at_iter_eps_1.00': {'legend':'$ \\epsilon/\\Delta_{grid} = 1.00$', 'line_style': 'g'},\n",
    "\t\t\t'Glauert_Tip_dx_04_dz_04_an_fixed_at_iter_eps_1.4142': {'legend':'$ \\epsilon/\\Delta_{grid} = \\sqrt{2} $', 'line_style': 'r--'},\n",
    "\t\t\t'Glauert_Tip_dx_04_dz_04_an_fixed_at_iter_eps_2.00': {'legend':'$ \\epsilon/\\Delta_{grid} = 2.00 $', 'line_style': 'm--'}}"
   ]
  },
  {
   "cell_type": "markdown",
   "id": "7ffcf4f7",
   "metadata": {},
   "source": [
    "# Common Stuff"
   ]
  },
  {
   "cell_type": "code",
   "execution_count": 7,
   "id": "55260cfa",
   "metadata": {},
   "outputs": [],
   "source": [
    "vhub = [3, 4.5, 6, 7.5, 9, 10.5, 12, 13.5, 15]\n",
    "#vhub = [3, 4.5, 6, 7.5, 9, 10.5, 13.5, 15, 18]\n",
    "ind1_for_tab = 3 # To be used in the paper\n",
    "ind2_for_tab = 4 # To be used in the paper\n",
    "ind3_for_tab = 5 # To be used in the paper\n",
    "outfile = 'wrfout_d01_0001-01-01_00:00:00'"
   ]
  },
  {
   "cell_type": "markdown",
   "id": "ed4d6128",
   "metadata": {},
   "source": [
    "# NREL Data"
   ]
  },
  {
   "cell_type": "code",
   "execution_count": 8,
   "id": "d84d8caa",
   "metadata": {},
   "outputs": [],
   "source": [
    "NREL_Data = pd.read_csv(os.path.join(WRF_result_base_loc,'NREL_5MW_126_RWT.csv'))\n",
    "ws_NREL    = list(NREL_Data['Wind Speed [m/s]'])\n",
    "power_NREL = list(NREL_Data['Power [kW]'])\n",
    "\n",
    "f = interpolate.interp1d(ws_NREL, power_NREL)\n",
    "power_interp = f(vhub)"
   ]
  },
  {
   "cell_type": "markdown",
   "id": "7e44b6a3",
   "metadata": {},
   "source": [
    "# Cases of Interest"
   ]
  },
  {
   "cell_type": "code",
   "execution_count": 9,
   "id": "083f0cb3",
   "metadata": {},
   "outputs": [
    {
     "name": "stdout",
     "output_type": "stream",
     "text": [
      "Cases: \n",
      " ['Glauert_Tip_dx_04_dz_04_an_fixed_at_iter_eps_1.00', 'Glauert_Tip_dx_04_dz_04_an_iter_at_iter_eps_1.00', 'Shen_Tip_dx_04_dz_04_an_fixed_at_iter_eps_1.00', 'Shen_Tip_dx_04_dz_04_an_iter_at_iter_eps_1.00', 'Tip_dx_04_dz_04_an_0.0_at_0.0_eps_1.00']\n"
     ]
    }
   ],
   "source": [
    "case_keys = list(case_dir_map.keys())\n",
    "case_keys.sort()\n",
    "print ('Cases: \\n {}'.format(case_keys))"
   ]
  },
  {
   "cell_type": "code",
   "execution_count": 10,
   "id": "26b9f63d",
   "metadata": {},
   "outputs": [],
   "source": [
    "case_tab = ['NREL']\n",
    "power1_tab = [power_interp[ind1_for_tab]*1.0e+3]\n",
    "power2_tab = [power_interp[ind2_for_tab]*1.0e+3]\n",
    "power3_tab = [power_interp[ind3_for_tab]*1.0e+3]\n",
    "error1_tab = [0.0]\n",
    "error2_tab = [0.0]\n",
    "error3_tab = [0.0]"
   ]
  },
  {
   "cell_type": "markdown",
   "id": "8d1a2b04",
   "metadata": {},
   "source": [
    "## Read the Data for Cases of Interest"
   ]
  },
  {
   "cell_type": "code",
   "execution_count": 11,
   "id": "d6563b04",
   "metadata": {},
   "outputs": [
    {
     "name": "stdout",
     "output_type": "stream",
     "text": [
      "Cases under consideration : \n",
      "\n",
      "Case: Glauert_Tip_dx_04_dz_04_an_fixed_at_iter_eps_1.00\n",
      "Legend: Glauert, a$_{n}$ = 0.07, a$_{t}$ = iterated\n",
      "Power: [  55163.421875  302231.71875   785571.4375   1535019.\n",
      " 2634574.       4201333.5      5712205.5      4934324.5\n",
      " 4533012.5     ]\n",
      "Error w.r.t. NREL: [36.20597994  3.93112749  6.50371983  3.77710171  4.60470102  5.44218959\n",
      " 14.24411    -1.31351    -9.33975   ]\n",
      "\n",
      "\n",
      "Case: Glauert_Tip_dx_04_dz_04_an_iter_at_iter_eps_1.00\n",
      "Legend: Glauert, a$_{n}$ = iterated, a$_{t}$ = iterated\n",
      "Power: [  55991.203125  111369.96875   321983.0625    765431.0625\n",
      " 1390595.375    2224565.25     3723411.5      4196047.\n",
      "            nan]\n",
      "Error w.r.t. NREL: [ 38.24988426 -61.70221157 -56.34719868 -48.25196481 -44.78696994\n",
      " -44.16938554 -25.53177    -16.07906             nan]\n",
      "\n",
      "\n",
      "Case: Shen_Tip_dx_04_dz_04_an_fixed_at_iter_eps_1.00\n",
      "Legend: Shen, a$_{n}$ = 0.07, a$_{t}$ = iterated\n",
      "Power: [  55193.35546875  302243.125       785439.375      1535001.\n",
      " 2634363.5        4201135.         5711683.5        4936742.\n",
      " 4537042.5       ]\n",
      "Error w.r.t. NREL: [36.27989005  3.93504986  6.48581548  3.7758848   4.59634321  5.43720777\n",
      " 14.23367    -1.26516    -9.25915   ]\n",
      "\n",
      "\n",
      "Case: Shen_Tip_dx_04_dz_04_an_iter_at_iter_eps_1.00\n",
      "Legend: Shen, a$_{n}$ = iterated, a$_{t}$ = iterated\n",
      "Power: [            nan  107428.0234375  337670.90625    824527.25\n",
      " 1498323.875     2401988.75      3954503.        4374550.\n",
      " 4508158.       ]\n",
      "Error w.r.t. NREL: [         nan -63.0577636  -54.22032182 -44.25668458 -40.50965318\n",
      " -39.7165321  -20.90994    -12.509       -9.83684   ]\n",
      "\n",
      "\n",
      "Case: Tip_dx_04_dz_04_an_0.0_at_0.0_eps_1.00\n",
      "Legend: a$_{n}$ = 0.0, a$_{t}$ = 0.0\n",
      "Power: [  63199.83203125  334005.21875     866875.625      1691577.75\n",
      " 2903786.25       4630714.5        6470100.         6035376.\n",
      " 5899177.5       ]\n",
      "Error w.r.t. NREL: [56.04896798 14.85736546 17.52652183 14.3614745  15.29366513 16.21849973\n",
      " 29.402      20.70752    17.98355   ]\n",
      "\n",
      "\n"
     ]
    }
   ],
   "source": [
    "print ('Cases under consideration : \\n')\n",
    "for case in case_keys:\n",
    "    print('Case: {}'.format(case))\n",
    "    print('Legend: {}'.format(case_dir_map[case]['legend']))\n",
    "    case_tab.append(case)\n",
    "\n",
    "    power_case_ws = np.zeros(len(vhub))\n",
    "    for ind_vhub, ws_hub in enumerate(vhub):\n",
    "        case_for_ws = path.join(WRF_result_base_loc, case, 'power_curve_{}'.format(ws_hub))\n",
    "        #print ('case_for_ws: {}'.format(case_for_ws))\n",
    "        case_nc_file = path.join(case_for_ws, outfile)\n",
    "        #print ('case_nc_file: {}'.format(case_nc_file))\n",
    "        case_data = Dataset(case_nc_file, mode='r')\n",
    "        case_power = case_data.variables['POWER'][:]\n",
    "        #print ('case_power: ', case_power)\n",
    "        case_data.close()\n",
    "        \n",
    "        if (len(case_power) <2):\n",
    "            power_case_ws[ind_vhub] = np.nan\n",
    "        else:\n",
    "            power_case_ws[ind_vhub] = case_power[1]\n",
    "\n",
    "    #print('power_case_ws: ', power_case_ws)\n",
    "    case_dir_map[case]['power'] = power_case_ws\n",
    "\n",
    "    error_NREL = (power_case_ws*1e-3/power_interp - 1.0)*100\n",
    "    case_dir_map[case]['error'] = error_NREL\n",
    "\n",
    "    print('Power: {}'.format(case_dir_map[case]['power']))\n",
    "    print('Error w.r.t. NREL: {}'.format(case_dir_map[case]['error']))\n",
    "\n",
    "    power1_tab.append(float('%.0f'%(power_case_ws[ind1_for_tab])))\n",
    "    power2_tab.append(float('%.0f'%(power_case_ws[ind2_for_tab])))\n",
    "    power3_tab.append(float('%.0f'%(power_case_ws[ind3_for_tab])))\n",
    "    error1_tab.append(float('%5.2f'%(error_NREL[ind1_for_tab])))\n",
    "    error2_tab.append(float('%5.2f'%(error_NREL[ind2_for_tab])))\n",
    "    error3_tab.append(float('%5.2f'%(error_NREL[ind3_for_tab])))\n",
    "\n",
    "    print ('\\n')"
   ]
  },
  {
   "cell_type": "markdown",
   "id": "7f48ead2",
   "metadata": {},
   "source": [
    "## Prepare Tabulated Data for a few Wind Speeds"
   ]
  },
  {
   "cell_type": "code",
   "execution_count": 12,
   "id": "63296101",
   "metadata": {},
   "outputs": [
    {
     "name": "stdout",
     "output_type": "stream",
     "text": [
      "Tabulated Dataframe: \n",
      "                                                   power[vhub = 7.5]  \\\n",
      "NREL                                                       1479150.0   \n",
      "Glauert_Tip_dx_04_dz_04_an_fixed_at_iter_eps_1.00          1535019.0   \n",
      "Glauert_Tip_dx_04_dz_04_an_iter_at_iter_eps_1.00            765431.0   \n",
      "Shen_Tip_dx_04_dz_04_an_fixed_at_iter_eps_1.00             1535001.0   \n",
      "Shen_Tip_dx_04_dz_04_an_iter_at_iter_eps_1.00               824527.0   \n",
      "Tip_dx_04_dz_04_an_0.0_at_0.0_eps_1.00                     1691578.0   \n",
      "\n",
      "                                                   error[vhub = 7.5]  \\\n",
      "NREL                                                            0.00   \n",
      "Glauert_Tip_dx_04_dz_04_an_fixed_at_iter_eps_1.00               3.78   \n",
      "Glauert_Tip_dx_04_dz_04_an_iter_at_iter_eps_1.00              -48.25   \n",
      "Shen_Tip_dx_04_dz_04_an_fixed_at_iter_eps_1.00                  3.78   \n",
      "Shen_Tip_dx_04_dz_04_an_iter_at_iter_eps_1.00                 -44.26   \n",
      "Tip_dx_04_dz_04_an_0.0_at_0.0_eps_1.00                         14.36   \n",
      "\n",
      "                                                   power[vhub = 9]  \\\n",
      "NREL                                                     2518600.0   \n",
      "Glauert_Tip_dx_04_dz_04_an_fixed_at_iter_eps_1.00        2634574.0   \n",
      "Glauert_Tip_dx_04_dz_04_an_iter_at_iter_eps_1.00         1390595.0   \n",
      "Shen_Tip_dx_04_dz_04_an_fixed_at_iter_eps_1.00           2634364.0   \n",
      "Shen_Tip_dx_04_dz_04_an_iter_at_iter_eps_1.00            1498324.0   \n",
      "Tip_dx_04_dz_04_an_0.0_at_0.0_eps_1.00                   2903786.0   \n",
      "\n",
      "                                                   error[vhub = 9]  \\\n",
      "NREL                                                          0.00   \n",
      "Glauert_Tip_dx_04_dz_04_an_fixed_at_iter_eps_1.00             4.60   \n",
      "Glauert_Tip_dx_04_dz_04_an_iter_at_iter_eps_1.00            -44.79   \n",
      "Shen_Tip_dx_04_dz_04_an_fixed_at_iter_eps_1.00                4.60   \n",
      "Shen_Tip_dx_04_dz_04_an_iter_at_iter_eps_1.00               -40.51   \n",
      "Tip_dx_04_dz_04_an_0.0_at_0.0_eps_1.00                       15.29   \n",
      "\n",
      "                                                   power[vhub = 10.5]  \\\n",
      "NREL                                                        3984490.0   \n",
      "Glauert_Tip_dx_04_dz_04_an_fixed_at_iter_eps_1.00           4201334.0   \n",
      "Glauert_Tip_dx_04_dz_04_an_iter_at_iter_eps_1.00            2224565.0   \n",
      "Shen_Tip_dx_04_dz_04_an_fixed_at_iter_eps_1.00              4201135.0   \n",
      "Shen_Tip_dx_04_dz_04_an_iter_at_iter_eps_1.00               2401989.0   \n",
      "Tip_dx_04_dz_04_an_0.0_at_0.0_eps_1.00                      4630714.0   \n",
      "\n",
      "                                                   error[vhub = 10.5]  \n",
      "NREL                                                             0.00  \n",
      "Glauert_Tip_dx_04_dz_04_an_fixed_at_iter_eps_1.00                5.44  \n",
      "Glauert_Tip_dx_04_dz_04_an_iter_at_iter_eps_1.00               -44.17  \n",
      "Shen_Tip_dx_04_dz_04_an_fixed_at_iter_eps_1.00                   5.44  \n",
      "Shen_Tip_dx_04_dz_04_an_iter_at_iter_eps_1.00                  -39.72  \n",
      "Tip_dx_04_dz_04_an_0.0_at_0.0_eps_1.00                          16.22  \n",
      "\n"
     ]
    }
   ],
   "source": [
    "tabulated_data = pd.DataFrame(index = case_tab)\n",
    "tabulated_data['power[vhub = {}]'.format(vhub[ind1_for_tab])] = power1_tab\n",
    "tabulated_data['error[vhub = {}]'.format(vhub[ind1_for_tab])] = error1_tab\n",
    "tabulated_data['power[vhub = {}]'.format(vhub[ind2_for_tab])] = power2_tab\n",
    "tabulated_data['error[vhub = {}]'.format(vhub[ind2_for_tab])] = error2_tab\n",
    "tabulated_data['power[vhub = {}]'.format(vhub[ind3_for_tab])] = power3_tab\n",
    "tabulated_data['error[vhub = {}]'.format(vhub[ind3_for_tab])] = error3_tab\n",
    "print('Tabulated Dataframe: \\n{}\\n'.format(tabulated_data))\n",
    "tabulated_data.to_csv(tab_data_file)"
   ]
  },
  {
   "cell_type": "markdown",
   "id": "a682742a",
   "metadata": {},
   "source": [
    "# Create Plots"
   ]
  },
  {
   "cell_type": "markdown",
   "id": "5bc40ba6",
   "metadata": {},
   "source": [
    "## Power Curve"
   ]
  },
  {
   "cell_type": "code",
   "execution_count": 13,
   "id": "3cc1196b",
   "metadata": {},
   "outputs": [
    {
     "name": "stderr",
     "output_type": "stream",
     "text": [
      "/collab/usr/gapps/python/build/spack-toss3.3/opt/spack/linux-rhel7-x86_64/gcc-4.9.3/python-3.7.2-asydydmavj2puklmx5t6cu3ruzmg2b3a/lib/python3.7/site-packages/matplotlib/cbook/__init__.py:1377: FutureWarning: Support for multi-dimensional indexing (e.g. `obj[:, None]`) is deprecated and will be removed in a future version.  Convert to a numpy array before indexing instead.\n",
      "  x[:, None]\n",
      "/collab/usr/gapps/python/build/spack-toss3.3/opt/spack/linux-rhel7-x86_64/gcc-4.9.3/python-3.7.2-asydydmavj2puklmx5t6cu3ruzmg2b3a/lib/python3.7/site-packages/matplotlib/axes/_base.py:237: FutureWarning: Support for multi-dimensional indexing (e.g. `obj[:, None]`) is deprecated and will be removed in a future version.  Convert to a numpy array before indexing instead.\n",
      "  x = x[:, np.newaxis]\n",
      "/collab/usr/gapps/python/build/spack-toss3.3/opt/spack/linux-rhel7-x86_64/gcc-4.9.3/python-3.7.2-asydydmavj2puklmx5t6cu3ruzmg2b3a/lib/python3.7/site-packages/matplotlib/axes/_base.py:239: FutureWarning: Support for multi-dimensional indexing (e.g. `obj[:, None]`) is deprecated and will be removed in a future version.  Convert to a numpy array before indexing instead.\n",
      "  y = y[:, np.newaxis]\n"
     ]
    },
    {
     "data": {
      "image/png": "[encoded data removed]",
      "text/plain": [
       "<Figure size 432x288 with 1 Axes>"
      ]
     },
     "metadata": {
      "needs_background": "light"
     },
     "output_type": "display_data"
    },
    {
     "data": {
      "text/plain": [
       "<Figure size 432x288 with 0 Axes>"
      ]
     },
     "metadata": {},
     "output_type": "display_data"
    }
   ],
   "source": [
    "#plot\n",
    "pr = 1.00\n",
    "\n",
    "plt.cla()\n",
    "# POWER Curve\n",
    "plt.figure(1)\n",
    "plt.plot(NREL_Data['Wind Speed [m/s]'], NREL_Data['Power [kW]']*1e-3/pr, 'k-', label = 'NREL data')\n",
    "#plt.plot([0,20],[5,5],'k--',label='Rated power')\n",
    "for case in case_keys:\n",
    "    power_case_ws = case_dir_map[case]['power']\n",
    "    legend = case_dir_map[case]['legend']\n",
    "    line_style = case_dir_map[case]['line_style']\n",
    "    plt.plot(vhub, power_case_ws*1e-6/pr, line_style, label=legend)\n",
    "plt.title(plt_title,fontsize=12)\n",
    "plt.xlim(2,16)\n",
    "plt.xticks(np.arange(2,16,2))\n",
    "plt.ylim(0,7.0)\n",
    "plt.xlabel(r'Hub-height wind speed [m s$^{-1}$]',fontsize=12)\n",
    "plt.ylabel(r'Power (MW)',fontsize=12)\n",
    "plt.legend(loc='best')\n",
    "plt.gca().tick_params(labelsize=12)\n",
    "plt.show()\n",
    "\n",
    "if savefig:\n",
    "    plt.savefig(figFileName,dpi=300)"
   ]
  },
  {
   "cell_type": "markdown",
   "id": "28af7f47",
   "metadata": {},
   "source": [
    "## Error in Power Curve"
   ]
  },
  {
   "cell_type": "code",
   "execution_count": 14,
   "id": "ec6d183b",
   "metadata": {},
   "outputs": [
    {
     "data": {
      "image/png": "[encoded data removed]",
      "text/plain": [
       "<Figure size 432x288 with 1 Axes>"
      ]
     },
     "metadata": {
      "needs_background": "light"
     },
     "output_type": "display_data"
    }
   ],
   "source": [
    "# Error w.r.t. NREL data\n",
    "plt.figure(2)\n",
    "for case in case_keys:\n",
    "    error_case_ws = case_dir_map[case]['error']\n",
    "    legend = case_dir_map[case]['legend']\n",
    "    line_style = case_dir_map[case]['line_style']\n",
    "    plt.plot(vhub, error_case_ws, line_style, label=legend)\n",
    "plt.title(plt_title,fontsize=12)\n",
    "plt.xlim(2,16)\n",
    "plt.xticks(np.arange(2,16,2))\n",
    "plt.xlabel(r'Hub-height wind speed [m s$^{-1}$]',fontsize=12)\n",
    "plt.ylabel(r'Percent error w.r.t. NREL data',fontsize=12)\n",
    "plt.legend(loc='best')\n",
    "plt.gca().tick_params(labelsize=10)\n",
    "\n",
    "plt.show()"
   ]
  }
 ],
 "metadata": {
  "kernelspec": {
   "display_name": "ML_Wind",
   "language": "python",
   "name": "py3_ml_wind"
  },
  "language_info": {
   "codemirror_mode": {
    "name": "ipython",
    "version": 3
   },
   "file_extension": ".py",
   "mimetype": "text/x-python",
   "name": "python",
   "nbconvert_exporter": "python",
   "pygments_lexer": "ipython3",
   "version": "3.7.2"
  }
 },
 "nbformat": 4,
 "nbformat_minor": 5
}
