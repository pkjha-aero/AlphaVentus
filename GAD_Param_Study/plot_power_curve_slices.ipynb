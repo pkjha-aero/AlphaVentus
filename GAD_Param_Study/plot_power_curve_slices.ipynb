{
 "cells": [
  {
   "cell_type": "markdown",
   "id": "be32f8cd",
   "metadata": {},
   "source": [
    "# Import Modules"
   ]
  },
  {
   "cell_type": "markdown",
   "id": "1f7d09d4",
   "metadata": {},
   "source": [
    "## Standard"
   ]
  },
  {
   "cell_type": "code",
   "execution_count": null,
   "id": "0006519d",
   "metadata": {},
   "outputs": [],
   "source": [
    "import sys\n",
    "import os\n",
    "import os.path as path\n",
    "import xarray as xr\n",
    "from netCDF4 import Dataset\n",
    "import numpy as np\n",
    "import pandas as pd\n",
    "from scipy import interpolate\n",
    "import matplotlib.pyplot as plt\n",
    "import matplotlib.dates as mdates"
   ]
  },
  {
   "cell_type": "markdown",
   "id": "ea44cd60",
   "metadata": {},
   "source": [
    "## User Defined"
   ]
  },
  {
   "cell_type": "code",
   "execution_count": null,
   "id": "dfc2388c",
   "metadata": {},
   "outputs": [],
   "source": [
    "sys.path.insert(0, os.path.dirname(os.getcwd()))\n",
    "from data_processing_slice import *\n",
    "from plotting_slice import *\n",
    "from helper_GAD import *"
   ]
  },
  {
   "cell_type": "markdown",
   "id": "cdcfe339",
   "metadata": {},
   "source": [
    "# Paths"
   ]
  },
  {
   "cell_type": "code",
   "execution_count": null,
   "id": "e6a75f0c",
   "metadata": {},
   "outputs": [],
   "source": [
    "WRF_result_base_loc ='/p/lustre2/jha3/fromWill/TurbTest/NREL_5MW'\n",
    "GAD_param_output_loc = os.path.join(WRF_result_base_loc, 'GAD_Param_Study_Output')\n",
    "GAD_param_power_curve_loc = os.path.join(GAD_param_output_loc, 'PowerCurve')\n",
    "GAD_param_slice_loc = os.path.join(GAD_param_output_loc, 'Slice')\n",
    "os.system('mkdir -p %s'%GAD_param_power_curve_loc)\n",
    "os.system('mkdir -p %s'%GAD_param_slice_loc)"
   ]
  },
  {
   "cell_type": "markdown",
   "id": "fe79dd28",
   "metadata": {},
   "source": [
    "# Flags"
   ]
  },
  {
   "cell_type": "code",
   "execution_count": null,
   "id": "79e97ab1",
   "metadata": {},
   "outputs": [],
   "source": [
    "savefig = True\n",
    "induction_effect = True\n",
    "grid_effect = False\n",
    "epsilon_effect = False"
   ]
  },
  {
   "cell_type": "markdown",
   "id": "e6bc910f",
   "metadata": {},
   "source": [
    "# Common Stuff"
   ]
  },
  {
   "cell_type": "code",
   "execution_count": null,
   "id": "c94eb970",
   "metadata": {},
   "outputs": [],
   "source": [
    "hub_height = 90\n",
    "vhub = [3, 4.5, 6, 7.5, 9, 10.5, 12, 13.5, 15]\n",
    "#vhub = [3, 4.5, 6, 7.5, 9, 10.5, 13.5, 15, 18]\n",
    "ind1_for_tab = 3 # To be used in the paper\n",
    "ind2_for_tab = 4 # To be used in the paper\n",
    "ind3_for_tab = 5 # To be used in the paper\n",
    "outfile = 'wrfout_d01_0001-01-01_00:00:00'\n",
    "tsoutfile = 'tsout_d01_0001-01-01_00:00:00'"
   ]
  },
  {
   "cell_type": "markdown",
   "id": "ae781a6c",
   "metadata": {},
   "source": [
    "# Effect of Induction Type"
   ]
  },
  {
   "cell_type": "code",
   "execution_count": null,
   "id": "439fb84c",
   "metadata": {},
   "outputs": [],
   "source": [
    "if induction_effect:\n",
    "\tfigFileName = os.path.join(GAD_param_power_curve_loc, 'power_induction.png')\n",
    "\ttab_data_file = os.path.join(GAD_param_power_curve_loc, 'power_induction.csv')\n",
    "\tplt_title   = '$Grid: \\Delta x = \\Delta y = 4 m, \\Delta z = 4 m; Gaussian: \\epsilon/\\Delta_{grid} = 1.00 $'\n",
    "\tcase_dir_map = {'Glauert_Tip_dx_04_dz_04_an_fixed_at_iter_eps_1.00': \n",
    "                    {'legend':'Glauert, a$_{n}$ = 0.07, a$_{t}$ = iterated', \n",
    "                     'line_style': 'b',\n",
    "                     'dz': 4.0},\n",
    "\t\t        'Glauert_Tip_dx_04_dz_04_an_iter_at_iter_eps_1.00': \n",
    "                    {'legend':'Glauert, a$_{n}$ = iterated, a$_{t}$ = iterated', \n",
    "                     'line_style': 'g',\n",
    "                     'dz': 4.0},\n",
    "\t\t\t'Shen_Tip_dx_04_dz_04_an_fixed_at_iter_eps_1.00': \n",
    "                    {'legend':'Shen, a$_{n}$ = 0.07, a$_{t}$ = iterated', \n",
    "                     'line_style': 'r--',\n",
    "                     'dz': 4.0},\n",
    "\t\t\t'Shen_Tip_dx_04_dz_04_an_iter_at_iter_eps_1.00': \n",
    "                    {'legend':'Shen, a$_{n}$ = iterated, a$_{t}$ = iterated', \n",
    "                     'line_style': 'm--',\n",
    "                     'dz': 4.0},\n",
    "\t\t\t'Tip_dx_04_dz_04_an_0.0_at_0.0_eps_1.00': \n",
    "                    {'legend':'a$_{n}$ = 0.0, a$_{t}$ = 0.0', \n",
    "                     'line_style': 'c',\n",
    "                     'dz': 4.0}}"
   ]
  },
  {
   "cell_type": "markdown",
   "id": "bc13f445",
   "metadata": {},
   "source": [
    "# Effect of Grid Resolution"
   ]
  },
  {
   "cell_type": "code",
   "execution_count": null,
   "id": "e98aef3a",
   "metadata": {},
   "outputs": [],
   "source": [
    "if grid_effect:\n",
    "\tfigFileName = os.path.join(GAD_param_power_curve_loc, 'power_grid_effect.png')\n",
    "\ttab_data_file = os.path.join(GAD_param_power_curve_loc, 'power_grid_effect.csv')\n",
    "\tplt_title   = '$ Induction: Glauert, a_{n} = 0.07, a_{t} = iterated; Gaussian: \\epsilon/\\Delta_{grid} = 1.00 $'\n",
    "\tcase_dir_map = {'Glauert_Tip_dx_04_dz_04_an_fixed_at_iter_eps_1.00': \n",
    "                    {'legend':'$\\Delta x = \\Delta y = 4 m, \\Delta z = 4 m $', \n",
    "                     'line_style': 'b',\n",
    "                     'dz': 4.0},\n",
    "\t\t\t'Glauert_Tip_dx_08_dz_08_an_fixed_at_iter_eps_1.00': \n",
    "                    {'legend':'$\\Delta x = \\Delta y = 8 m, \\Delta z = 8 m $', \n",
    "                     'line_style': 'g',\n",
    "                     'dz': 8.0},\n",
    "\t\t\t'Glauert_Tip_dx_16_dz_04_an_fixed_at_iter_eps_1.00': \n",
    "                    {'legend':'$\\Delta x = \\Delta y = 16 m, \\Delta z = 4 m $', \n",
    "                     'line_style': 'r--',\n",
    "                     'dz': 4.0},\n",
    "\t\t\t'Glauert_Tip_dx_16_dz_16_an_fixed_at_iter_eps_1.00': \n",
    "                    {'legend':'$\\Delta x = \\Delta y = 16 m, \\Delta z = 16 m $', \n",
    "                     'line_style': 'm--',\n",
    "                     'dz': 16.0}}"
   ]
  },
  {
   "cell_type": "markdown",
   "id": "b78cbeaf",
   "metadata": {},
   "source": [
    "# Effect of Gaussian Spreading"
   ]
  },
  {
   "cell_type": "code",
   "execution_count": null,
   "id": "4d160d09",
   "metadata": {},
   "outputs": [],
   "source": [
    "if epsilon_effect:\n",
    "\tfigFileName = os.path.join(GAD_param_power_curve_loc, 'power_gaussian_effect.png')\n",
    "\ttab_data_file = os.path.join(GAD_param_power_curve_loc, 'power_gaussian_effect.csv')\n",
    "\tplt_title   = '$Grid: \\Delta x = \\Delta y = 4 m, \\Delta z = 4 ; Induction: Glauert, a_{n} = 0.07, a_{t} = iterated $'\n",
    "\tcase_dir_map = {'Glauert_Tip_dx_04_dz_04_an_fixed_at_iter_eps_0.707': \n",
    "                    {'legend':'$ \\epsilon/\\Delta_{grid} = 1/\\sqrt{2} $', \n",
    "                     'line_style': 'b',\n",
    "                     'dz': 4.0},\n",
    "\t\t\t'Glauert_Tip_dx_04_dz_04_an_fixed_at_iter_eps_1.00': \n",
    "                    {'legend':'$ \\epsilon/\\Delta_{grid} = 1.00$', \n",
    "                     'line_style': 'g',\n",
    "                     'dz': 4.0},\n",
    "\t\t\t'Glauert_Tip_dx_04_dz_04_an_fixed_at_iter_eps_1.4142': \n",
    "                    {'legend':'$ \\epsilon/\\Delta_{grid} = \\sqrt{2} $', \n",
    "                     'line_style': 'r--',\n",
    "                     'dz': 4.0},\n",
    "\t\t\t'Glauert_Tip_dx_04_dz_04_an_fixed_at_iter_eps_2.00': \n",
    "                    {'legend':'$ \\epsilon/\\Delta_{grid} = 2.00 $', \n",
    "                     'line_style': 'm--',\n",
    "                     'dz': 4.0}}"
   ]
  },
  {
   "cell_type": "markdown",
   "id": "8f192f42",
   "metadata": {},
   "source": [
    "# Cases of Interest"
   ]
  },
  {
   "cell_type": "code",
   "execution_count": null,
   "id": "a1cdc1b4",
   "metadata": {},
   "outputs": [],
   "source": [
    "case_keys = list(case_dir_map.keys())\n",
    "case_keys.sort()\n",
    "print ('Cases: \\n {}'.format(case_keys))\n",
    "#case_keys"
   ]
  },
  {
   "cell_type": "markdown",
   "id": "acff3847",
   "metadata": {},
   "source": [
    "# Compute Indices and Weights for Slices at Hub Height"
   ]
  },
  {
   "cell_type": "code",
   "execution_count": null,
   "id": "fe88a3a9",
   "metadata": {},
   "outputs": [],
   "source": [
    "case_dir_map = compute_indices_weights_for_slices (case_dir_map, hub_height)\n",
    "#case_dir_map"
   ]
  },
  {
   "cell_type": "markdown",
   "id": "a6eb97c3",
   "metadata": {},
   "source": [
    "# NREL Data"
   ]
  },
  {
   "cell_type": "code",
   "execution_count": null,
   "id": "c33f50c5",
   "metadata": {},
   "outputs": [],
   "source": [
    "NREL_Data, ws_NREL, power_NREL, power_interp = prepare_NREL_data (WRF_result_base_loc, vhub)"
   ]
  },
  {
   "cell_type": "markdown",
   "id": "c6443455",
   "metadata": {},
   "source": [
    "# Initialize Tabulated Data"
   ]
  },
  {
   "cell_type": "code",
   "execution_count": null,
   "id": "75f284b1",
   "metadata": {},
   "outputs": [],
   "source": [
    "case_tab, power1_tab, power2_tab, power3_tab, \\\n",
    "error1_tab, error2_tab, error3_tab = \\\n",
    "                initialize_tabulated_data (power_interp, \\\n",
    "                                           ind1_for_tab, ind2_for_tab, ind3_for_tab)"
   ]
  },
  {
   "cell_type": "markdown",
   "id": "12913381",
   "metadata": {},
   "source": [
    "# Read the Power Data for Cases of Interest"
   ]
  },
  {
   "cell_type": "code",
   "execution_count": null,
   "id": "6f1bfb61",
   "metadata": {},
   "outputs": [],
   "source": [
    "print ('Cases under consideration : \\n')\n",
    "for case in case_keys:\n",
    "    case_dir_map, case_tab, \\\n",
    "    power1_tab, power2_tab, power3_tab, \\\n",
    "    error1_tab, error2_tab, error3_tab = \\\n",
    "    read_power_for_a_case (WRF_result_base_loc, case, vhub, power_interp, outfile, \\\n",
    "                           case_dir_map, case_tab, \\\n",
    "                           power1_tab, power2_tab, power3_tab, \\\n",
    "                           error1_tab, error2_tab, error3_tab, \\\n",
    "                           ind1_for_tab, ind2_for_tab, ind3_for_tab)"
   ]
  },
  {
   "cell_type": "markdown",
   "id": "6f991614",
   "metadata": {},
   "source": [
    "# Prepare Tabulated Data for a Few Wind Speeds"
   ]
  },
  {
   "cell_type": "code",
   "execution_count": null,
   "id": "dbc4c9af",
   "metadata": {},
   "outputs": [],
   "source": [
    "tabulate_data_for_cases (tab_data_file, vhub, case_tab, \\\n",
    "                         power1_tab, power2_tab, power3_tab, \\\n",
    "                         error1_tab, error2_tab, error3_tab, \\\n",
    "                         ind1_for_tab, ind2_for_tab, ind3_for_tab)"
   ]
  },
  {
   "cell_type": "markdown",
   "id": "b99f8267",
   "metadata": {},
   "source": [
    "# Create Power Curve Plots"
   ]
  },
  {
   "cell_type": "markdown",
   "id": "45de190c",
   "metadata": {},
   "source": [
    "## Power Curve"
   ]
  },
  {
   "cell_type": "code",
   "execution_count": null,
   "id": "f5d660a7",
   "metadata": {},
   "outputs": [],
   "source": [
    "plot_power_curve_for_cases (NREL_Data, vhub, case_keys, case_dir_map, plt_title, \\\n",
    "                            figFileName, savefig)"
   ]
  },
  {
   "cell_type": "markdown",
   "id": "0f42f912",
   "metadata": {},
   "source": [
    "## Error in Power Curve"
   ]
  },
  {
   "cell_type": "code",
   "execution_count": null,
   "id": "1b5103db",
   "metadata": {},
   "outputs": [],
   "source": [
    "plot_power_curve_error_for_cases (vhub, case_keys, case_dir_map, plt_title)"
   ]
  },
  {
   "cell_type": "markdown",
   "id": "7f1bebba",
   "metadata": {},
   "source": [
    "# Read and Plot Slice Data"
   ]
  },
  {
   "cell_type": "code",
   "execution_count": null,
   "id": "1cbc05f6",
   "metadata": {},
   "outputs": [],
   "source": [
    "case_dir_map"
   ]
  },
  {
   "cell_type": "code",
   "execution_count": null,
   "id": "48bcc3a6",
   "metadata": {},
   "outputs": [],
   "source": [
    "ws_list = [9]\n",
    "qoi_label_map = {'UTS':'U'}\n",
    "#qoi_label_map = {'UTS':'U','VTS':'V'}\n",
    "qoi_unit_map = {'UTS':'m/s', 'VTS':'m/s'}\n",
    "time_ind = 30\n",
    "qoi_cont_range = [2, 11]\n",
    "cont_levels_count = 21\n",
    "xlim = [0, 1000]\n",
    "ylim = [0, 1000]"
   ]
  },
  {
   "cell_type": "code",
   "execution_count": null,
   "id": "20f75aa1",
   "metadata": {},
   "outputs": [],
   "source": [
    "for case in case_keys:\n",
    "    case_legend = case_dir_map[case]['legend']\n",
    "    DZ = case_dir_map[case]['dz']\n",
    "    z_ind1 = case_dir_map[case]['z_indices'][0]\n",
    "    z_ind2 = case_dir_map[case]['z_indices'][1]\n",
    "    w1 = case_dir_map[case]['weights'][0]\n",
    "    w2 = case_dir_map[case]['weights'][1]\n",
    "    print('z_indices: [{}, {}], weights: [{}, {}]'.format(z_ind1, z_ind2, w1, w2))\n",
    "    \n",
    "    for ws in ws_list:\n",
    "\n",
    "        slice_data_wgt_UMAG, DX, DY = \\\n",
    "        get_hub_height_slice_data_case_ws (WRF_result_base_loc, case, ws, outfile, tsoutfile, \\\n",
    "                                      time_ind, z_ind1, z_ind2, w1, w2)\n",
    "        \n",
    "        plot_loc = os.path.join(GAD_param_slice_loc, case, 'power_curve_{}'.format(ws))\n",
    "        os.system('mkdir -p %s'%plot_loc)\n",
    "        image_name = 'slice_{}.png'.format('UMAG')\n",
    "\n",
    "        plot_contour_slice(slice_data_wgt_UMAG, DX, DY, plot_loc, image_name, \\\n",
    "                            'UMAG', 'UMAG', 'm/s', case_legend, \\\n",
    "                            cont_levels_count, qoi_cont_range)\n",
    "     "
   ]
  },
  {
   "cell_type": "markdown",
   "id": "85f96fe5",
   "metadata": {},
   "source": [
    "# Scratch Work"
   ]
  }
 ],
 "metadata": {
  "kernelspec": {
   "display_name": "ML_Wind",
   "language": "python",
   "name": "py3_ml_wind"
  },
  "language_info": {
   "codemirror_mode": {
    "name": "ipython",
    "version": 3
   },
   "file_extension": ".py",
   "mimetype": "text/x-python",
   "name": "python",
   "nbconvert_exporter": "python",
   "pygments_lexer": "ipython3",
   "version": "3.7.2"
  }
 },
 "nbformat": 4,
 "nbformat_minor": 5
}
